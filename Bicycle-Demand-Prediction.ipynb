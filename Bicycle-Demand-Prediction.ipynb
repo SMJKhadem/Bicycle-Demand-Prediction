{
 "cells": [
  {
   "cell_type": "markdown",
   "id": "6c44a613",
   "metadata": {},
   "source": [
    "## Goal\n",
    "Find out how many bicycles need to be ready at a given time in the Washington, D.C. market."
   ]
  },
  {
   "cell_type": "markdown",
   "id": "6857b561",
   "metadata": {},
   "source": [
    "### Import necessary libraries"
   ]
  },
  {
   "cell_type": "code",
   "execution_count": null,
   "id": "19456880",
   "metadata": {},
   "outputs": [],
   "source": [
    "import pandas as pd\n",
    "import numpy as np\n",
    "import matplotlib.pyplot as plt\n",
    "import seaborn as sns\n",
    "from sklearn.linear_model import LinearRegression\n",
    "from sklearn.model_selection import train_test_split\n",
    "from sklearn.compose import ColumnTransformer \n",
    "from sklearn.pipeline import Pipeline , make_pipeline as mk_pip\n",
    "from sklearn.preprocessing import KBinsDiscretizer , StandardScaler, MinMaxScaler, OneHotEncoder\n",
    "from sklearn.preprocessing import FunctionTransformer \n",
    "from sklearn.ensemble import RandomForestRegressor as RFR\n",
    "from sklearn.model_selection import cross_val_score\n",
    "from sklearn.model_selection import GridSearchCV\n",
    "from sklearn.metrics import mean_squared_log_error"
   ]
  },
  {
   "cell_type": "code",
   "execution_count": null,
   "id": "03195b5f",
   "metadata": {},
   "outputs": [],
   "source": [
    "# Set default plot size\n",
    "plt.rcParams[\"figure.figsize\"] = (5,4)"
   ]
  },
  {
   "cell_type": "markdown",
   "id": "122cd246",
   "metadata": {},
   "source": [
    "### Load data"
   ]
  },
  {
   "cell_type": "code",
   "execution_count": null,
   "id": "de824b77",
   "metadata": {},
   "outputs": [],
   "source": [
    "df = pd.read_csv('../data/train.csv', index_col=0, parse_dates=True)"
   ]
  },
  {
   "cell_type": "code",
   "execution_count": null,
   "id": "ff24a9a0",
   "metadata": {},
   "outputs": [],
   "source": [
    "df.head()\n"
   ]
  },
  {
   "cell_type": "code",
   "execution_count": null,
   "id": "bad6a1c2",
   "metadata": {},
   "outputs": [],
   "source": [
    "df.info()"
   ]
  },
  {
   "cell_type": "markdown",
   "id": "e1f6cb70",
   "metadata": {},
   "source": [
    "### Add datetime features"
   ]
  },
  {
   "cell_type": "code",
   "execution_count": null,
   "id": "cde0c07a",
   "metadata": {},
   "outputs": [],
   "source": [
    "\n",
    "df['datetime'] = df.index\n",
    "df[\"year\"] = df.index.year\n",
    "df['month'] = df.index.month\n",
    "df[\"day\"] = df.index.day\n",
    "df[\"weekday\"] = df.index.weekday\n",
    "df['hour'] = df.index.hour"
   ]
  },
  {
   "cell_type": "markdown",
   "id": "6e842e1b",
   "metadata": {},
   "source": [
    "### Exploratory data analysis"
   ]
  },
  {
   "cell_type": "code",
   "execution_count": null,
   "id": "b8f83cf4",
   "metadata": {},
   "outputs": [],
   "source": [
    "df.info()\n",
    "df.groupby([\"year\",\"month\",\"day\"])[\"holiday\"].count()"
   ]
  },
  {
   "cell_type": "code",
   "execution_count": null,
   "id": "88ec9fb8",
   "metadata": {},
   "outputs": [],
   "source": [
    "# Plot correlations\n",
    "sns.heatmap(df.corr())"
   ]
  },
  {
   "cell_type": "code",
   "execution_count": null,
   "id": "eb1504a2",
   "metadata": {},
   "outputs": [],
   "source": [
    "# Summarize data by date or time\n",
    "b=df.resample(\"W\").median()\n",
    "b"
   ]
  },
  {
   "cell_type": "code",
   "execution_count": null,
   "id": "0403cb97",
   "metadata": {},
   "outputs": [],
   "source": [
    "# Have a look at counts with moving average\n",
    "df.rolling(100).mean().plot(y=\"count\")"
   ]
  },
  {
   "cell_type": "code",
   "execution_count": null,
   "id": "40a9f87a",
   "metadata": {},
   "outputs": [],
   "source": [
    "# Check out the median count by columns, for linearity:\n",
    "for column in df.columns[df.columns != \"datetime\"]:\n",
    "    median_count = df.groupby(column)[\"count\"].median()\n",
    "    plt.plot(median_count)\n",
    "    plt.ylabel('Median Count') \n",
    "    plt.xlabel(column)\n",
    "    plt.show()\n"
   ]
  },
  {
   "cell_type": "markdown",
   "id": "51f8b5d7",
   "metadata": {},
   "source": [
    "* For some features, an feature exapnsion might be needed, if you want to do linear regression!\n"
   ]
  },
  {
   "cell_type": "markdown",
   "id": "ff94af33",
   "metadata": {},
   "source": [
    "### Set target variable"
   ]
  },
  {
   "cell_type": "code",
   "execution_count": null,
   "id": "95169359",
   "metadata": {},
   "outputs": [],
   "source": [
    "y = df['count']\n",
    "# Drop unneeded columns\n",
    "X = df.drop(columns=[\"registered\", \"count\", 'datetime'])\n",
    "X"
   ]
  },
  {
   "cell_type": "markdown",
   "id": "9f0a5489",
   "metadata": {},
   "source": [
    "### Split into train and test"
   ]
  },
  {
   "cell_type": "code",
   "execution_count": null,
   "id": "0f0a4492",
   "metadata": {},
   "outputs": [],
   "source": [
    "X_train, X_test, y_train, y_test = train_test_split(X, y, test_size=0.2, random_state=41)\n"
   ]
  },
  {
   "cell_type": "markdown",
   "id": "462ee1d1",
   "metadata": {},
   "source": [
    "### Run the linreg blindly"
   ]
  },
  {
   "cell_type": "code",
   "execution_count": null,
   "id": "4294c5ab",
   "metadata": {},
   "outputs": [],
   "source": [
    "linreg=LinearRegression()"
   ]
  },
  {
   "cell_type": "code",
   "execution_count": null,
   "id": "200ab508",
   "metadata": {},
   "outputs": [],
   "source": [
    "linreg.fit(X_train,np.log1p(y_train))"
   ]
  },
  {
   "cell_type": "code",
   "execution_count": null,
   "id": "c489f0c5",
   "metadata": {
    "scrolled": true
   },
   "outputs": [],
   "source": [
    "linreg.score(X_test,np.log1p(y_test))"
   ]
  },
  {
   "cell_type": "markdown",
   "id": "a90994aa",
   "metadata": {},
   "source": [
    "* The result is bad. Either do feture exapnsion and repet the linreg, or go with randomforest regressor "
   ]
  },
  {
   "cell_type": "markdown",
   "id": "6dfc73a2",
   "metadata": {},
   "source": [
    "### RandomForestReg"
   ]
  },
  {
   "cell_type": "code",
   "execution_count": null,
   "id": "11dbde08",
   "metadata": {},
   "outputs": [],
   "source": [
    "# Check prameter importance\n",
    "#firt fit all and then call the importances\n",
    "rf = RFR(max_depth=5, random_state=0)"
   ]
  },
  {
   "cell_type": "code",
   "execution_count": null,
   "id": "cac682f4",
   "metadata": {},
   "outputs": [],
   "source": [
    "rf.fit(X_train, y_train)"
   ]
  },
  {
   "cell_type": "code",
   "execution_count": null,
   "id": "ab6b61d0",
   "metadata": {
    "scrolled": true
   },
   "outputs": [],
   "source": [
    "IMP=pd.DataFrame({ 'feature': X_train.columns, 'importance': rf.feature_importances_})\n",
    "IMP"
   ]
  },
  {
   "cell_type": "markdown",
   "id": "8c625268",
   "metadata": {},
   "source": [
    "* Day should be out, cuz it has no relevance to the test data .... See the test data.\n",
    "* windspeed and weather has no meaningful correlation with the count in train data ->Out"
   ]
  },
  {
   "cell_type": "markdown",
   "id": "c51e8fb9",
   "metadata": {},
   "source": [
    "### Define preprocessing pipeline"
   ]
  },
  {
   "cell_type": "code",
   "execution_count": null,
   "id": "6e8d475c",
   "metadata": {},
   "outputs": [],
   "source": [
    "#a_1=mk_pip(MinMaxScaler() ) #KBinsDiscretizer(n_bins=24)\n",
    "a_2=mk_pip(StandardScaler())\n",
    "a_3=mk_pip(KBinsDiscretizer(n_bins=7))\n",
    "a_4=mk_pip(OneHotEncoder())"
   ]
  },
  {
   "cell_type": "code",
   "execution_count": null,
   "id": "1b1208cd",
   "metadata": {},
   "outputs": [],
   "source": [
    "# Transform the columns with \n",
    "feature_transformer=ColumnTransformer(\n",
    "transformers=[#('chaps_a_1', a_1, [\"\"]),\n",
    "              ('chaps_a_2', a_2, [ \"atemp\",'humidity']),\n",
    "              ('chaps_a_4', a_3, ['weekday' ]),\n",
    "              (\"do_nothing\", 'passthrough', ['holiday', 'workingday', 'year', \n",
    "                                             'weather','season','month','hour'])]\n",
    ")"
   ]
  },
  {
   "cell_type": "markdown",
   "id": "636a1eea",
   "metadata": {},
   "source": [
    "### Fit and check the score"
   ]
  },
  {
   "cell_type": "code",
   "execution_count": null,
   "id": "d64a21d1",
   "metadata": {},
   "outputs": [],
   "source": [
    "pipeline=mk_pip(feature_transformer, RFR())\n",
    "pipeline.fit(X_train,np.log1p(y_train))\n",
    "pipeline.score(X_train,np.log1p(y_train))"
   ]
  },
  {
   "cell_type": "markdown",
   "id": "ad9a76dd",
   "metadata": {},
   "source": [
    "### Cross-validation-score for train or test"
   ]
  },
  {
   "cell_type": "code",
   "execution_count": null,
   "id": "28a036e8",
   "metadata": {},
   "outputs": [],
   "source": [
    "cross_r2_pip=cross_val_score(pipeline, \n",
    "               X_train,\n",
    "               y_train,\n",
    "               cv=5, \n",
    "               scoring='r2',\n",
    "               verbose=3\n",
    ")"
   ]
  },
  {
   "cell_type": "code",
   "execution_count": null,
   "id": "9f8876f3",
   "metadata": {},
   "outputs": [],
   "source": [
    "cross_r2_pip.mean()"
   ]
  },
  {
   "cell_type": "code",
   "execution_count": null,
   "id": "51ab56fc",
   "metadata": {},
   "outputs": [],
   "source": [
    "### Check the test data"
   ]
  },
  {
   "cell_type": "code",
   "execution_count": null,
   "id": "cf513251",
   "metadata": {},
   "outputs": [],
   "source": [
    "np.sqrt(mean_squared_log_error(y_test, np.expm1(pipeline.predict(X_test))))"
   ]
  },
  {
   "cell_type": "markdown",
   "id": "f8c71484",
   "metadata": {},
   "source": [
    "### Hyperparameter optimization"
   ]
  },
  {
   "cell_type": "code",
   "execution_count": null,
   "id": "6d2ab5fc",
   "metadata": {},
   "outputs": [],
   "source": [
    "# What are the relevant parameters?\n",
    "\n",
    "pipeline.get_params()"
   ]
  },
  {
   "cell_type": "code",
   "execution_count": null,
   "id": "a33738bb",
   "metadata": {},
   "outputs": [],
   "source": [
    "parameters = { 'randomforestregressor__n_estimators' : [2 ** i for i in range(7, 9)],  # parameters grid\n",
    "              'randomforestregressor__max_depth': [ 4,8,10,12, None]\n",
    "              #'randomforestregressor__ccp_alpha': []...\n",
    "    \n",
    "\n",
    "}\n",
    "grid_cv = GridSearchCV(estimator=pipeline, \n",
    "                    param_grid=parameters, \n",
    "                    cv=5, \n",
    "                    scoring='r2',\n",
    "                    verbose = 3)"
   ]
  },
  {
   "cell_type": "code",
   "execution_count": null,
   "id": "ecfaf52b",
   "metadata": {},
   "outputs": [],
   "source": [
    "# Searching for the optimal set of parameters\n",
    "grid_cv.fit(X_train, np.log1p(y_train));"
   ]
  },
  {
   "cell_type": "code",
   "execution_count": null,
   "id": "d16596ca",
   "metadata": {},
   "outputs": [],
   "source": [
    "# call the best parameters:\n",
    "grid_cv.best_params_"
   ]
  },
  {
   "cell_type": "code",
   "execution_count": null,
   "id": "0f868d39",
   "metadata": {},
   "outputs": [],
   "source": [
    "pipeline_best=grid_cv.best_estimator_"
   ]
  },
  {
   "cell_type": "code",
   "execution_count": null,
   "id": "cab2978b",
   "metadata": {},
   "outputs": [],
   "source": [
    "# Check the score\n",
    "pipeline_best.score(X_train,np.log1p(y_train))"
   ]
  },
  {
   "cell_type": "markdown",
   "id": "706194a4",
   "metadata": {},
   "source": [
    "* Optimization has improved the result to some extent"
   ]
  },
  {
   "cell_type": "markdown",
   "id": "c1574a62",
   "metadata": {},
   "source": [
    "### creat output with optimized"
   ]
  },
  {
   "cell_type": "code",
   "execution_count": null,
   "id": "0e00abea",
   "metadata": {},
   "outputs": [],
   "source": [
    "bike_df=pd.read_csv('../data/test.csv',index_col=0, parse_dates=True)\n",
    "bike_df['hour']=bike_df.index.hour\n",
    "bike_df['day']=bike_df.index.day\n",
    "bike_df['weekday']=bike_df.index.weekday\n",
    "bike_df['month']=bike_df.index.month\n",
    "bike_df['year']=bike_df.index.year\n"
   ]
  },
  {
   "cell_type": "markdown",
   "id": "cb1a32be",
   "metadata": {},
   "source": [
    "### Create csv file for Kaggle competiton"
   ]
  },
  {
   "cell_type": "code",
   "execution_count": null,
   "id": "1ebe8d0d",
   "metadata": {},
   "outputs": [],
   "source": [
    "My={\"datetime\": bike_df.index.to_numpy(),\"count\": np.expm1(pipeline_best.predict(bike_df))}\n",
    "My_prediction=pd.DataFrame(data=My)\n",
    "My_prediction.set_index(\"datetime\", inplace=True)\n",
    "My_prediction.to_csv(\"rfra.csv\")\n",
    "My_prediction"
   ]
  },
  {
   "cell_type": "code",
   "execution_count": null,
   "id": "383e9579",
   "metadata": {},
   "outputs": [],
   "source": []
  },
  {
   "cell_type": "code",
   "execution_count": null,
   "id": "6ca2f34f",
   "metadata": {},
   "outputs": [],
   "source": []
  },
  {
   "cell_type": "code",
   "execution_count": null,
   "id": "2e39b64e",
   "metadata": {},
   "outputs": [],
   "source": []
  },
  {
   "cell_type": "code",
   "execution_count": null,
   "id": "4cb4f68f",
   "metadata": {},
   "outputs": [],
   "source": []
  }
 ],
 "metadata": {
  "kernelspec": {
   "display_name": "Python 3 (ipykernel)",
   "language": "python",
   "name": "python3"
  },
  "language_info": {
   "codemirror_mode": {
    "name": "ipython",
    "version": 3
   },
   "file_extension": ".py",
   "mimetype": "text/x-python",
   "name": "python",
   "nbconvert_exporter": "python",
   "pygments_lexer": "ipython3",
   "version": "3.9.13"
  }
 },
 "nbformat": 4,
 "nbformat_minor": 5
}
